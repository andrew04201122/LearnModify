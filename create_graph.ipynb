{
 "cells": [
  {
   "cell_type": "code",
   "execution_count": 1,
   "metadata": {},
   "outputs": [],
   "source": [
    "from heapdict import heapdict\n",
    "import numpy as np\n",
    "import networkx as nx\n",
    "import pickle\n",
    "import random\n",
    "import math\n",
    "import torch\n",
    "from os import path\n",
    "import torch.nn.functional as F\n",
    "import torch.nn as nn\n"
   ]
  },
  {
   "cell_type": "code",
   "execution_count": 2,
   "metadata": {},
   "outputs": [],
   "source": [
    "def pickle_save(data,file_name):\n",
    "    if path.exists(file_name):\n",
    "        raise BaseException('file already exists')\n",
    "\n",
    "    with open(file_name,'wb') as f:\n",
    "        pickle.dump(data , f)\n",
    "\n",
    "def pickle_load(file_name):\n",
    "    with open(file_name,'rb') as f:\n",
    "        return pickle.load(f)\n",
    "def density2regD(n  , density):\n",
    "    return math.floor(n*density)\n",
    "\n",
    "def density_to_edge_ba(n , p):\n",
    "    return math.ceil( p *n  /2)\n"
   ]
  },
  {
   "cell_type": "code",
   "execution_count": 3,
   "metadata": {},
   "outputs": [],
   "source": [
    "def validation_graph_gen(n , p , num = 100, graph_type = 'er'):\n",
    "    np.random.seed(20000420)\n",
    "    random.seed(20000420)\n",
    "    validation_graph = []\n",
    "    for i in range(num):\n",
    "        if graph_type == 'er':\n",
    "            g = nx.erdos_renyi_graph(n , p)\n",
    "            validation_graph.append(g)\n",
    "        elif graph_type == 'ba':\n",
    "            m = density_to_edge_ba(n , p)\n",
    "            g = nx.barabasi_albert_graph(n , m)\n",
    "            validation_graph.append(g)\n",
    "        elif graph_type == 'reg':\n",
    "            d = density2regD(n , p)\n",
    "            g = nx.random_regular_graph(n = n , d = d)\n",
    "            validation_graph.append(g)\n",
    "        elif graph_type == 'pow':\n",
    "            m = density_to_edge_ba(n , p)\n",
    "            g = nx.powerlaw_cluster_graph(n = n , m = m , p = 0.25)\n",
    "            validation_graph.append(g)\n",
    "    return validation_graph"
   ]
  },
  {
   "cell_type": "code",
   "execution_count": 4,
   "metadata": {},
   "outputs": [],
   "source": [
    "def mvc_bb(graph , UB = 9999999 , C = []):    \n",
    "    if len(graph.edges()) == 0:\n",
    "        return C\n",
    "    LB = 0 #lower bound\n",
    "    # if lower bound add current cover number larger than upper bound, it means there is impossible to find the better result\n",
    "    if len(C) + LB >= UB: \n",
    "        return [i for i in range(UB+1)]\n",
    "    \n",
    "    degree_list = nx.degree(graph)\n",
    "    v , d = max(degree_list , key = lambda a : a[1])\n",
    "    #use branch and bound to find out the mvc result\n",
    "    #C1 will include all neighbor node of v\n",
    "    #C2 will only include v\n",
    "    C1 = C[:] \n",
    "    C2 = C[:]\n",
    "    graph_1 = graph.copy()\n",
    "    C1.extend(list(graph.neighbors(v)))\n",
    "    graph_1.remove_nodes_from(C1)\n",
    "    C1= mvc_bb(graph_1 , UB , C1)\n",
    "\n",
    "    C2.append(v)\n",
    "    graph_2 = graph.copy()\n",
    "    graph_2.remove_node(v)\n",
    "    C2 = mvc_bb(graph_2 , min(UB , len(C1)) , C2 )\n",
    "\n",
    "    if len(C1)>len(C2):\n",
    "        return C2\n",
    "    else:\n",
    "        return C1"
   ]
  },
  {
   "cell_type": "code",
   "execution_count": 5,
   "metadata": {},
   "outputs": [],
   "source": [
    "data, opt = pickle_load(\"/workspace/Synthetic_graph/Training_graph_50_withOPT.pkl\")"
   ]
  },
  {
   "cell_type": "code",
   "execution_count": 6,
   "metadata": {},
   "outputs": [],
   "source": [
    "G1 = data[0]\n",
    "G2 = data[1]\n"
   ]
  },
  {
   "cell_type": "code",
   "execution_count": 7,
   "metadata": {},
   "outputs": [],
   "source": [
    "A_np = nx.adjacency_matrix(G1).todense()\n",
    "A_np = np.array(A_np)\n",
    "A_flatten = A_np.flatten()\n",
    "# 將 NumPy 陣列轉換為 PyTorch 張量\n",
    "A_torch = torch.tensor(A_flatten)\n",
    "\n",
    "# 將張量移動到 GPU 上（假設你有可用的 CUDA GPU）\n",
    "if torch.cuda.is_available():\n",
    "    A_torch = A_torch.to('cuda')"
   ]
  },
  {
   "cell_type": "code",
   "execution_count": 8,
   "metadata": {},
   "outputs": [],
   "source": [
    "A2_np = nx.adjacency_matrix(G2).todense()\n",
    "A2_np = np.array(A2_np)\n",
    "A2_flatten = A2_np.flatten()\n",
    "# 將 NumPy 陣列轉換為 PyTorch 張量\n",
    "A2_torch = torch.tensor(A2_flatten)\n",
    "\n",
    "\n",
    "# 將張量移動到 GPU 上（假設你有可用的 CUDA GPU）\n",
    "if torch.cuda.is_available():\n",
    "    A2_torch = A2_torch.to('cuda')"
   ]
  },
  {
   "cell_type": "code",
   "execution_count": 9,
   "metadata": {},
   "outputs": [
    {
     "name": "stdout",
     "output_type": "stream",
     "text": [
      "tensor([0.6489], device='cuda:0')\n"
     ]
    }
   ],
   "source": [
    "cos = nn.CosineSimilarity(dim=1)\n",
    "A_torch = A_torch.float().unsqueeze(0)\n",
    "A2_torch = A2_torch.float().unsqueeze(0)\n",
    "print(cos(A_torch, A2_torch))"
   ]
  },
  {
   "cell_type": "code",
   "execution_count": 12,
   "metadata": {},
   "outputs": [
    {
     "name": "stdout",
     "output_type": "stream",
     "text": [
      "0.6488767461182359\n"
     ]
    }
   ],
   "source": [
    "from numpy.linalg import norm\n",
    "cosine_similarity = np.dot(A_flatten, A2_flatten) / (norm(A_flatten) * norm(A2_flatten))\n",
    "print(cosine_similarity)"
   ]
  },
  {
   "cell_type": "code",
   "execution_count": 13,
   "metadata": {},
   "outputs": [],
   "source": [
    "training_solution = []\n",
    "for i in data :\n",
    "    training_solution.append(mvc_bb(i))"
   ]
  },
  {
   "cell_type": "code",
   "execution_count": 15,
   "metadata": {},
   "outputs": [],
   "source": [
    "pickle_save((data,training_solution) , \"/workspace/Synthetic_graph/Training_graph_50_withOPT.pkl\")"
   ]
  },
  {
   "cell_type": "code",
   "execution_count": null,
   "metadata": {},
   "outputs": [],
   "source": [
    "training_graph = []\n",
    "opt = []\n",
    "pro = []\n",
    "for i in range(1000):\n",
    "    p = random.uniform(0.25,0.75)\n",
    "    G = nx.erdos_renyi_graph(50, p)\n",
    "    MVC = len(mvc_bb(G))\n",
    "    print(f\"i = {i}, p = {p}, MVC = {MVC}\")\n",
    "    training_graph.append(G)\n",
    "    opt.append(MVC)\n",
    "    pro.append(p)\n",
    "pickle_save((training_graph,opt,pro) , 'workspace/Testing_graph_1000_withOPTPRO.pkl')"
   ]
  },
  {
   "cell_type": "code",
   "execution_count": 16,
   "metadata": {},
   "outputs": [
    {
     "name": "stdout",
     "output_type": "stream",
     "text": [
      "i = 0, p = 0.6952651275933455, MVC = 45\n",
      "i = 1, p = 0.5927124962222894, MVC = 45\n",
      "i = 2, p = 0.3257294073954657, MVC = 39\n",
      "i = 3, p = 0.5833821011022489, MVC = 44\n",
      "i = 4, p = 0.3081408098387335, MVC = 40\n",
      "i = 5, p = 0.3232772802619697, MVC = 39\n",
      "i = 6, p = 0.26010065255517306, MVC = 38\n",
      "i = 7, p = 0.26155676581699416, MVC = 38\n",
      "i = 8, p = 0.2890938460791986, MVC = 38\n",
      "i = 9, p = 0.5976792598535426, MVC = 44\n",
      "i = 10, p = 0.2919590391520179, MVC = 38\n",
      "i = 11, p = 0.6240768030130797, MVC = 44\n",
      "i = 12, p = 0.48403042542701713, MVC = 42\n",
      "i = 13, p = 0.7415302708550214, MVC = 45\n",
      "i = 14, p = 0.3056030146735697, MVC = 38\n",
      "i = 15, p = 0.27381396805690517, MVC = 38\n",
      "i = 16, p = 0.36854803978345974, MVC = 40\n",
      "i = 17, p = 0.40603781446772863, MVC = 41\n",
      "i = 18, p = 0.44994550739096856, MVC = 42\n",
      "i = 19, p = 0.33232145167903293, MVC = 39\n",
      "i = 20, p = 0.654364748850738, MVC = 45\n",
      "i = 21, p = 0.6400252829284272, MVC = 44\n",
      "i = 22, p = 0.35273876572181145, MVC = 40\n",
      "i = 23, p = 0.4501795460280074, MVC = 42\n",
      "i = 24, p = 0.6568155821372006, MVC = 44\n",
      "i = 25, p = 0.6566820182891739, MVC = 45\n",
      "i = 26, p = 0.26094298399881155, MVC = 35\n",
      "i = 27, p = 0.4105220469468662, MVC = 42\n",
      "i = 28, p = 0.6995107219466556, MVC = 44\n",
      "i = 29, p = 0.48036050002560965, MVC = 42\n",
      "i = 30, p = 0.3780692047168451, MVC = 39\n",
      "i = 31, p = 0.3532592692229113, MVC = 39\n",
      "i = 32, p = 0.5970492545485737, MVC = 44\n",
      "i = 33, p = 0.30468281147187243, MVC = 39\n",
      "i = 34, p = 0.4199903695638781, MVC = 40\n",
      "i = 35, p = 0.5879667809619713, MVC = 43\n",
      "i = 36, p = 0.49446747361038235, MVC = 42\n",
      "i = 37, p = 0.74225682542476, MVC = 45\n",
      "i = 38, p = 0.32220699207188647, MVC = 39\n",
      "i = 39, p = 0.26767429727239017, MVC = 38\n",
      "i = 40, p = 0.4775008760749226, MVC = 42\n",
      "i = 41, p = 0.7308800129531855, MVC = 45\n",
      "i = 42, p = 0.5163326163599569, MVC = 43\n",
      "i = 43, p = 0.364453174608416, MVC = 40\n",
      "i = 44, p = 0.47603214438714875, MVC = 41\n",
      "i = 45, p = 0.4565162696101932, MVC = 41\n",
      "i = 46, p = 0.43068696207885443, MVC = 41\n",
      "i = 47, p = 0.6165048525141628, MVC = 44\n",
      "i = 48, p = 0.5007710583721714, MVC = 43\n",
      "i = 49, p = 0.5615813864633309, MVC = 44\n",
      "i = 50, p = 0.6462202304871302, MVC = 43\n",
      "i = 51, p = 0.6482834589635769, MVC = 45\n",
      "i = 52, p = 0.31509423300268863, MVC = 39\n",
      "i = 53, p = 0.311270213006529, MVC = 39\n",
      "i = 54, p = 0.7339641452730818, MVC = 45\n",
      "i = 55, p = 0.7027041514515115, MVC = 44\n",
      "i = 56, p = 0.5190564309425592, MVC = 43\n",
      "i = 57, p = 0.37467727195623407, MVC = 41\n",
      "i = 58, p = 0.3508110209080148, MVC = 39\n",
      "i = 59, p = 0.39565780089807023, MVC = 41\n",
      "i = 60, p = 0.7399202730151824, MVC = 45\n",
      "i = 61, p = 0.604524562990033, MVC = 44\n",
      "i = 62, p = 0.4651835400818445, MVC = 42\n",
      "i = 63, p = 0.41377053609637293, MVC = 40\n",
      "i = 64, p = 0.4304100078776661, MVC = 41\n",
      "i = 65, p = 0.5576360025612537, MVC = 43\n",
      "i = 66, p = 0.35954656086096126, MVC = 40\n",
      "i = 67, p = 0.28102756091267433, MVC = 39\n",
      "i = 68, p = 0.3230270952114272, MVC = 39\n",
      "i = 69, p = 0.5469317092651874, MVC = 44\n",
      "i = 70, p = 0.421937892699474, MVC = 42\n",
      "i = 71, p = 0.7443671593685688, MVC = 46\n",
      "i = 72, p = 0.4080765801409591, MVC = 41\n",
      "i = 73, p = 0.6086058417603075, MVC = 44\n",
      "i = 74, p = 0.30604120942063706, MVC = 39\n",
      "i = 75, p = 0.4982627572524917, MVC = 43\n",
      "i = 76, p = 0.7188916929490086, MVC = 45\n",
      "i = 77, p = 0.4583053719959278, MVC = 42\n",
      "i = 78, p = 0.3384562705263979, MVC = 39\n",
      "i = 79, p = 0.47187147751608527, MVC = 41\n",
      "i = 80, p = 0.6757557948441474, MVC = 45\n",
      "i = 81, p = 0.7397221321705792, MVC = 45\n",
      "i = 82, p = 0.7281288477539016, MVC = 45\n",
      "i = 83, p = 0.45728564638156033, MVC = 42\n",
      "i = 84, p = 0.3218129359985291, MVC = 40\n",
      "i = 85, p = 0.566955612958862, MVC = 43\n",
      "i = 86, p = 0.7047055075130126, MVC = 45\n",
      "i = 87, p = 0.4645933288493061, MVC = 42\n",
      "i = 88, p = 0.2789915895391915, MVC = 38\n",
      "i = 89, p = 0.2812688521939688, MVC = 38\n",
      "i = 90, p = 0.42152408135911584, MVC = 41\n",
      "i = 91, p = 0.6344306117522366, MVC = 44\n",
      "i = 92, p = 0.3144217902345906, MVC = 39\n",
      "i = 93, p = 0.5380008897013433, MVC = 43\n",
      "i = 94, p = 0.539713171404498, MVC = 44\n",
      "i = 95, p = 0.5251842828897919, MVC = 43\n",
      "i = 96, p = 0.33915125736713114, MVC = 40\n",
      "i = 97, p = 0.7019869933883576, MVC = 45\n",
      "i = 98, p = 0.7228826588249389, MVC = 45\n",
      "i = 99, p = 0.4792437021884806, MVC = 41\n",
      "i = 100, p = 0.5716062897358367, MVC = 43\n",
      "i = 101, p = 0.4148347785313704, MVC = 42\n",
      "i = 102, p = 0.6881124096991171, MVC = 44\n",
      "i = 103, p = 0.6952862267309574, MVC = 45\n",
      "i = 104, p = 0.6852796037684707, MVC = 45\n",
      "i = 105, p = 0.749254943527914, MVC = 45\n",
      "i = 106, p = 0.588898557638698, MVC = 44\n",
      "i = 107, p = 0.49156713026300675, MVC = 43\n",
      "i = 108, p = 0.2785396207258237, MVC = 39\n",
      "i = 109, p = 0.4391467897005466, MVC = 42\n",
      "i = 110, p = 0.2625452522260402, MVC = 37\n",
      "i = 111, p = 0.57714218189253, MVC = 44\n",
      "i = 112, p = 0.7156767120976528, MVC = 44\n",
      "i = 113, p = 0.360291498719495, MVC = 39\n",
      "i = 114, p = 0.46452649879897645, MVC = 40\n",
      "i = 115, p = 0.3520988640645909, MVC = 41\n",
      "i = 116, p = 0.303676578911633, MVC = 37\n",
      "i = 117, p = 0.7168779015918716, MVC = 45\n",
      "i = 118, p = 0.4665440449883976, MVC = 41\n",
      "i = 119, p = 0.4375177399753247, MVC = 41\n",
      "i = 120, p = 0.5199837740216662, MVC = 43\n",
      "i = 121, p = 0.6418053532082286, MVC = 44\n",
      "i = 122, p = 0.688684230836239, MVC = 45\n",
      "i = 123, p = 0.27681961041844394, MVC = 37\n",
      "i = 124, p = 0.6983822766497051, MVC = 45\n",
      "i = 125, p = 0.5728327925792178, MVC = 44\n",
      "i = 126, p = 0.47737991227598736, MVC = 42\n",
      "i = 127, p = 0.32367993583867594, MVC = 38\n",
      "i = 128, p = 0.2590829786353085, MVC = 37\n",
      "i = 129, p = 0.35845227689804565, MVC = 40\n",
      "i = 130, p = 0.593062679139561, MVC = 43\n",
      "i = 131, p = 0.48628277742418846, MVC = 42\n",
      "i = 132, p = 0.355914333929175, MVC = 40\n",
      "i = 133, p = 0.26923287706213134, MVC = 37\n",
      "i = 134, p = 0.5011669176430384, MVC = 43\n",
      "i = 135, p = 0.5043143295379067, MVC = 43\n",
      "i = 136, p = 0.7274903821557912, MVC = 45\n",
      "i = 137, p = 0.707322644312087, MVC = 45\n",
      "i = 138, p = 0.5903275878851455, MVC = 44\n",
      "i = 139, p = 0.41498044580002696, MVC = 41\n",
      "i = 140, p = 0.4412937706747974, MVC = 42\n",
      "i = 141, p = 0.5865547104097484, MVC = 43\n",
      "i = 142, p = 0.6520465476592263, MVC = 44\n",
      "i = 143, p = 0.6692850402758936, MVC = 45\n",
      "i = 144, p = 0.5624143271322113, MVC = 43\n",
      "i = 145, p = 0.2676660970765306, MVC = 37\n",
      "i = 146, p = 0.6298371857631732, MVC = 44\n",
      "i = 147, p = 0.564679850688022, MVC = 44\n",
      "i = 148, p = 0.7340775921144456, MVC = 46\n",
      "i = 149, p = 0.335633584720138, MVC = 40\n",
      "i = 150, p = 0.7103532750107009, MVC = 45\n",
      "i = 151, p = 0.4873269639262561, MVC = 43\n",
      "i = 152, p = 0.7443147718229927, MVC = 45\n",
      "i = 153, p = 0.6276309734842441, MVC = 44\n",
      "i = 154, p = 0.5907267558986729, MVC = 44\n",
      "i = 155, p = 0.608841310301701, MVC = 44\n",
      "i = 156, p = 0.6646959976383812, MVC = 44\n",
      "i = 157, p = 0.4831932868460478, MVC = 43\n",
      "i = 158, p = 0.37082921146789893, MVC = 39\n",
      "i = 159, p = 0.657876939802256, MVC = 44\n",
      "i = 160, p = 0.6346188680579896, MVC = 44\n",
      "i = 161, p = 0.5720043949062226, MVC = 43\n",
      "i = 162, p = 0.5927465850224563, MVC = 43\n",
      "i = 163, p = 0.30173254883310574, MVC = 39\n",
      "i = 164, p = 0.6095455467903004, MVC = 44\n",
      "i = 165, p = 0.2964294119056435, MVC = 39\n",
      "i = 166, p = 0.6757099805951909, MVC = 45\n",
      "i = 167, p = 0.43430144302823925, MVC = 42\n",
      "i = 168, p = 0.6987921135064139, MVC = 44\n",
      "i = 169, p = 0.6625386756472937, MVC = 44\n",
      "i = 170, p = 0.676289735374201, MVC = 44\n",
      "i = 171, p = 0.7371131151639816, MVC = 45\n",
      "i = 172, p = 0.2972968770587651, MVC = 39\n",
      "i = 173, p = 0.5477219587988281, MVC = 44\n",
      "i = 174, p = 0.5744329242633455, MVC = 43\n",
      "i = 175, p = 0.38399161173846835, MVC = 40\n",
      "i = 176, p = 0.35872425796771334, MVC = 40\n",
      "i = 177, p = 0.43534790749357544, MVC = 42\n",
      "i = 178, p = 0.4364558299870784, MVC = 41\n",
      "i = 179, p = 0.42132973185286443, MVC = 41\n",
      "i = 180, p = 0.6235525835763307, MVC = 44\n",
      "i = 181, p = 0.5009091329290529, MVC = 43\n",
      "i = 182, p = 0.6578376876026614, MVC = 45\n",
      "i = 183, p = 0.6412746627293486, MVC = 44\n",
      "i = 184, p = 0.7259003725776706, MVC = 45\n",
      "i = 185, p = 0.5419521137127603, MVC = 44\n",
      "i = 186, p = 0.3898606048702602, MVC = 41\n",
      "i = 187, p = 0.2809436100805317, MVC = 38\n",
      "i = 188, p = 0.49350200581801634, MVC = 42\n",
      "i = 189, p = 0.2675445011682166, MVC = 38\n",
      "i = 190, p = 0.5380854534589061, MVC = 43\n",
      "i = 191, p = 0.5414038629128709, MVC = 44\n",
      "i = 192, p = 0.6254002376514842, MVC = 44\n",
      "i = 193, p = 0.4905243421960968, MVC = 42\n",
      "i = 194, p = 0.6607303115377421, MVC = 45\n",
      "i = 195, p = 0.2903106635174003, MVC = 39\n",
      "i = 196, p = 0.4277530454699038, MVC = 41\n",
      "i = 197, p = 0.3063209308502678, MVC = 39\n",
      "i = 198, p = 0.4331644132676241, MVC = 41\n",
      "i = 199, p = 0.5623092095074098, MVC = 44\n"
     ]
    }
   ],
   "source": [
    "valid_graph = []\n",
    "opt = []\n",
    "pro = []\n",
    "for i in range(200):\n",
    "    p = random.uniform(0.25,0.75)\n",
    "    G = nx.erdos_renyi_graph(50, p)\n",
    "    MVC = len(mvc_bb(G))\n",
    "    print(f\"i = {i}, p = {p}, MVC = {MVC}\")\n",
    "    valid_graph.append(G)\n",
    "    opt.append(MVC)\n",
    "    pro.append(p)\n",
    "pickle_save((valid_graph,opt,pro) , 'workspace/Validation_graph_200_withOPTPRO.pkl')"
   ]
  },
  {
   "cell_type": "code",
   "execution_count": 4,
   "metadata": {},
   "outputs": [],
   "source": [
    "def greedy2approx(graph):\n",
    "    \"\"\"this function is an approximate method\"\"\"\n",
    "    covered_edge = 0\n",
    "    num_edge = len(graph.edges())\n",
    "    hd = heapdict()\n",
    "    degree = nx.degree(graph)\n",
    "    for v , d in degree:\n",
    "        hd[v] = -d\n",
    "        \n",
    "    select_nodes = set()\n",
    "    \n",
    "    while covered_edge < num_edge:\n",
    "        cur_v , cur_deg = hd.popitem()\n",
    "        select_nodes.add(cur_v)\n",
    "        covered_edge += -(cur_deg)\n",
    "        for u in graph.neighbors(cur_v):\n",
    "            if u not in select_nodes:\n",
    "                hd[u] += 1\n",
    "    return select_nodes"
   ]
  },
  {
   "cell_type": "code",
   "execution_count": 7,
   "metadata": {},
   "outputs": [],
   "source": [
    "Test = validation_graph_gen(n= 1000,p = 0.15, num = 1, graph_type='er')"
   ]
  },
  {
   "cell_type": "code",
   "execution_count": 8,
   "metadata": {},
   "outputs": [],
   "source": [
    "Z = greedy2approx(Test[0])"
   ]
  },
  {
   "cell_type": "code",
   "execution_count": 23,
   "metadata": {},
   "outputs": [],
   "source": [
    "er_01 = validation_graph_gen(n= 50,p = 0.1, num = 100, graph_type='er')\n",
    "er_02 = validation_graph_gen(n= 50,p = 0.2, num = 100, graph_type='er')\n",
    "er_03 = validation_graph_gen(n= 50,p = 0.3, num = 100, graph_type='er')\n",
    "er_04 = validation_graph_gen(n= 50,p = 0.4, num = 100, graph_type='er')\n",
    "er_05 = validation_graph_gen(n= 50,p = 0.5, num = 100, graph_type='er')\n",
    "er_06 = validation_graph_gen(n= 50,p = 0.6, num = 100, graph_type='er')\n",
    "er_07 = validation_graph_gen(n= 50,p = 0.7, num = 100, graph_type='er')\n",
    "er_08 = validation_graph_gen(n= 50,p = 0.8, num = 100, graph_type='er')\n",
    "er_09 = validation_graph_gen(n= 50,p = 0.9, num = 100, graph_type='er')"
   ]
  },
  {
   "cell_type": "code",
   "execution_count": null,
   "metadata": {},
   "outputs": [],
   "source": [
    "ans = []\n",
    "for i in range(100):\n",
    "    print(i)\n",
    "    ans.append(len(mvc_bb(er_01[i])))"
   ]
  },
  {
   "cell_type": "code",
   "execution_count": 27,
   "metadata": {},
   "outputs": [],
   "source": [
    "pickle_save((er_01,ans),\"workspace/Synthetic_graph/er_01_MVC_ANS.pkl\")"
   ]
  },
  {
   "cell_type": "code",
   "execution_count": null,
   "metadata": {},
   "outputs": [],
   "source": [
    "ans1 = []\n",
    "for i in range(100):\n",
    "    print(i)\n",
    "    ans1.append(len(mvc_bb(er_09[i])))"
   ]
  },
  {
   "cell_type": "code",
   "execution_count": 45,
   "metadata": {},
   "outputs": [],
   "source": [
    "pickle_save((er_09,ans1),\"workspace/Synthetic_graph/er_09_MVC_ANS.pkl\")"
   ]
  },
  {
   "cell_type": "code",
   "execution_count": 4,
   "metadata": {},
   "outputs": [],
   "source": [
    "temp1 = pickle_load(\"workspace/Synthetic_graph/er_01_MVC_ANS.pkl\")\n",
    "temp2 = pickle_load(\"workspace/Synthetic_graph/er_02_MVC_ANS.pkl\")\n",
    "temp3 = pickle_load(\"workspace/Synthetic_graph/er_03_MVC_ANS.pkl\")\n",
    "temp4 = pickle_load(\"workspace/Synthetic_graph/er_04_MVC_ANS.pkl\")\n",
    "temp5 = pickle_load(\"workspace/Synthetic_graph/er_05_MVC_ANS.pkl\")\n",
    "temp6 = pickle_load(\"workspace/Synthetic_graph/er_06_MVC_ANS.pkl\")\n",
    "temp7 = pickle_load(\"workspace/Synthetic_graph/er_07_MVC_ANS.pkl\")\n",
    "temp8 = pickle_load(\"workspace/Synthetic_graph/er_08_MVC_ANS.pkl\")\n",
    "temp9 = pickle_load(\"workspace/Synthetic_graph/er_09_MVC_ANS.pkl\")\n",
    "\n",
    "all_graph = temp1[0]+temp2[0]+temp3[0]+temp4[0]+temp5[0]+temp6[0]+temp7[0]+temp8[0]+temp9[0]\n",
    "\n",
    "all_ans = temp1[1]+temp2[1]+temp3[1]+temp4[1]+temp5[1]+temp6[1]+temp7[1]+temp8[1]+temp9[1]\n"
   ]
  },
  {
   "cell_type": "code",
   "execution_count": null,
   "metadata": {},
   "outputs": [],
   "source": [
    "from node2vec import Node2Vec\n",
    "graph_embedding = []\n",
    "for i in range(len(all_graph)):\n",
    "    vec = Node2Vec(all_graph[i], dimensions=64, walk_length=30, num_walks=30, workers=4)\n",
    "    model = vec.fit(window=10, min_count=1, batch_words=4)\n",
    "    embeddings = model.wv\n",
    "    graph_info = np.mean([embeddings[node] for node in range(len(embeddings))], axis=0)\n",
    "    graph_embedding.append(graph_info)\n",
    "pickle_save((graph_embedding,all_ans),\"workspace/Synthetic_graph/embedding_ANS.pkl\")"
   ]
  },
  {
   "cell_type": "code",
   "execution_count": 6,
   "metadata": {},
   "outputs": [],
   "source": [
    "emb, ans = pickle_load(\"workspace/Synthetic_graph/embedding_ANS.pkl\")"
   ]
  },
  {
   "cell_type": "code",
   "execution_count": 7,
   "metadata": {},
   "outputs": [
    {
     "name": "stdout",
     "output_type": "stream",
     "text": [
      "<class 'numpy.ndarray'>\n"
     ]
    }
   ],
   "source": [
    "print(type(emb[0]))"
   ]
  },
  {
   "cell_type": "code",
   "execution_count": 11,
   "metadata": {},
   "outputs": [],
   "source": [
    "train_data = []\n",
    "X = []\n",
    "Y = []\n",
    "for i in range(len(emb) -1 ):\n",
    "    for j in range(i+1 , len(emb)):\n",
    "        concateemb = np.concatenate((emb[i],emb[j]))\n",
    "        label = 1 if ans[i] == ans[j] else 0\n",
    "        train_data.append((concateemb,label))\n",
    "        X.append(concateemb)\n",
    "        Y.append(label)"
   ]
  },
  {
   "cell_type": "code",
   "execution_count": 10,
   "metadata": {},
   "outputs": [],
   "source": [
    "pickle_save(train_data,\"workspace/Synthetic_graph/train_data.pkl\")"
   ]
  },
  {
   "cell_type": "code",
   "execution_count": 12,
   "metadata": {},
   "outputs": [],
   "source": [
    "from sklearn.ensemble import RandomForestClassifier\n",
    "from sklearn.model_selection import train_test_split\n",
    "from sklearn.metrics import accuracy_score\n",
    "X_train, X_test, y_train, y_test = train_test_split(X, Y, test_size=0.2)\n"
   ]
  },
  {
   "cell_type": "code",
   "execution_count": null,
   "metadata": {},
   "outputs": [],
   "source": [
    "model = RandomForestClassifier()\n",
    "\n",
    "# 訓練模型\n",
    "model.fit(X_train, y_train)\n",
    "\n",
    "# 預測和評估\n",
    "y_pred = model.predict(X_test)\n",
    "print(\"Accuracy:\", accuracy_score(y_test, y_pred))"
   ]
  },
  {
   "cell_type": "code",
   "execution_count": 6,
   "metadata": {},
   "outputs": [],
   "source": [
    "import torch\n",
    "import torch.nn as nn\n",
    "import torch.nn.functional as F\n",
    "from torch_geometric.nn import GCNConv\n",
    "from torch_geometric.data import Data\n",
    "class GNN(nn.Module):\n",
    "    def __init__(self, input_dim, hidden_dim, output_dim):\n",
    "        super(GNN, self).__init__()\n",
    "        self.conv1 = GCNConv(input_dim, hidden_dim)\n",
    "        self.conv2 = GCNConv(hidden_dim, output_dim)\n",
    "        \n",
    "    def forward(self, x, edge_index):\n",
    "        x = self.conv1(x, edge_index)\n",
    "        x = F.relu(x)\n",
    "        x = self.conv2(x, edge_index)\n",
    "        return x\n",
    "\n",
    "def graph_to_node_representation(graph):\n",
    "    num_nodes = graph.number_of_nodes()\n",
    "    node_features = torch.eye(num_nodes)\n",
    "    edge_index = torch.tensor(list(graph.edges())).t().contiguous()\n",
    "    data = Data(x=node_features, edge_index=edge_index)\n",
    "    return data\n"
   ]
  },
  {
   "cell_type": "code",
   "execution_count": 4,
   "metadata": {},
   "outputs": [],
   "source": [
    "from node2vec import Node2Vec\n",
    "# training_graph = pickle_load(\"./workspace/Synthetic_graph/Test.pkl\")"
   ]
  },
  {
   "cell_type": "code",
   "execution_count": 6,
   "metadata": {},
   "outputs": [],
   "source": [
    "t = validation_graph_gen(n= 50,p = 0.15, num = 1, graph_type='er')[0]"
   ]
  },
  {
   "cell_type": "code",
   "execution_count": 13,
   "metadata": {},
   "outputs": [
    {
     "data": {
      "application/vnd.jupyter.widget-view+json": {
       "model_id": "4e42d2e9cf83499b9414f488ab002a8f",
       "version_major": 2,
       "version_minor": 0
      },
      "text/plain": [
       "Computing transition probabilities:   0%|          | 0/50 [00:00<?, ?it/s]"
      ]
     },
     "metadata": {},
     "output_type": "display_data"
    },
    {
     "name": "stderr",
     "output_type": "stream",
     "text": [
      "Generating walks (CPU: 1): 100%|██████████| 8/8 [00:00<00:00, 283.37it/s]\n",
      "Generating walks (CPU: 2): 100%|██████████| 8/8 [00:00<00:00, 314.43it/s]\n",
      "Generating walks (CPU: 3): 100%|██████████| 7/7 [00:00<00:00, 345.19it/s]\n",
      "Generating walks (CPU: 4): 100%|██████████| 7/7 [00:00<00:00, 343.33it/s]\n"
     ]
    }
   ],
   "source": [
    "vec = Node2Vec(t, dimensions=50, walk_length=30, num_walks=30, workers=4)"
   ]
  },
  {
   "cell_type": "code",
   "execution_count": 14,
   "metadata": {},
   "outputs": [],
   "source": [
    "model = vec.fit(window=10, min_count=1, batch_words=4)"
   ]
  },
  {
   "cell_type": "code",
   "execution_count": 15,
   "metadata": {},
   "outputs": [],
   "source": [
    "embeddings = model.wv\n"
   ]
  },
  {
   "cell_type": "code",
   "execution_count": 23,
   "metadata": {},
   "outputs": [
    {
     "name": "stdout",
     "output_type": "stream",
     "text": [
      "torch.Size([50, 50])\n"
     ]
    }
   ],
   "source": [
    "print(torch.tensor(embeddings.vectors, dtype=torch.float32).shape)"
   ]
  },
  {
   "cell_type": "code",
   "execution_count": 10,
   "metadata": {},
   "outputs": [],
   "source": [
    "graph_embedding = np.mean([embeddings[node] for node in range(len(embeddings))], axis=0)\n"
   ]
  },
  {
   "cell_type": "code",
   "execution_count": 11,
   "metadata": {},
   "outputs": [
    {
     "name": "stdout",
     "output_type": "stream",
     "text": [
      "Node 0: [ 1.35642916e-01 -1.64594024e-01  4.17407304e-02  1.40197262e-01\n",
      "  1.95480958e-02 -8.24867263e-02  3.24863307e-02  2.28214905e-01\n",
      " -8.60718489e-02  2.82436274e-02  8.56611431e-02 -8.44951347e-02\n",
      " -9.26422104e-02 -7.94978663e-02  1.39893264e-01  7.51068294e-02\n",
      "  4.24500480e-02 -8.76105726e-02 -1.52059853e-01  1.64118171e-01\n",
      "  1.82215236e-02  9.11932290e-02  3.17816377e-01  1.16657212e-01\n",
      " -1.62270293e-02  2.61186093e-01 -3.17212082e-02 -1.18185304e-01\n",
      " -6.81088120e-02 -1.79164827e-01 -1.20591193e-01  7.97695965e-02\n",
      " -2.25098073e-01 -2.68489242e-01 -1.78507373e-01  3.28494425e-05\n",
      "  1.31850183e-01  8.06379616e-02  3.07244420e-01 -2.01669373e-02\n",
      " -1.18654363e-01  7.79571384e-03  1.58096035e-03 -1.16846815e-01\n",
      "  7.50496015e-02  1.01981265e-02  8.33430793e-03  3.75570208e-02\n",
      "  1.10275239e-01  3.73766690e-01 -1.22294821e-01 -1.59472749e-02\n",
      "  3.28983605e-01  3.60854954e-01  6.39303401e-02  3.71168494e-01\n",
      "  6.45229071e-02 -5.32378815e-02 -4.13615108e-02  2.14883298e-01\n",
      "  1.36428058e-01 -1.25385076e-01  2.17085946e-02  2.40936920e-01]\n",
      "Node 1: [ 0.12207527 -0.15698266  0.05536767  0.04231907  0.04129347 -0.18798266\n",
      " -0.01144109  0.21424007  0.1039414   0.18452607  0.06511663 -0.16573766\n",
      "  0.09660973 -0.0571181  -0.2814232   0.35870567 -0.05095155 -0.06864446\n",
      " -0.18357454  0.08624991  0.03180197  0.2665621   0.3399744   0.06491956\n",
      " -0.0239837   0.28818145 -0.04309938 -0.3178957  -0.06422943 -0.11215744\n",
      " -0.07023338 -0.01250049 -0.36297843 -0.21268491 -0.18767117  0.22154711\n",
      "  0.1218679  -0.16587     0.23579769 -0.07625272 -0.08637448 -0.18573387\n",
      "  0.02541972 -0.04489709  0.04573092 -0.02965355 -0.3086349  -0.22215128\n",
      "  0.16541779  0.21961872 -0.19297266 -0.06623755  0.125432    0.32134295\n",
      "  0.12004096  0.16152337  0.03619246 -0.141554   -0.28163335  0.10660138\n",
      " -0.00797378 -0.01939178 -0.14792931  0.1457751 ]\n",
      "Node 2: [ 2.69376129e-01 -1.52418017e-01  1.20377503e-01  2.91396078e-04\n",
      " -2.59430885e-01 -3.23152244e-01  3.79462212e-01  2.36292183e-01\n",
      "  1.76237553e-01  3.56570363e-01  1.45034902e-02  5.00380024e-02\n",
      "  1.71426926e-02  2.01809611e-02 -3.91025841e-02  5.41624963e-01\n",
      "  1.95188493e-01 -9.96746644e-02 -3.17659438e-01  3.10488313e-01\n",
      "  3.76563449e-03  3.99571538e-01  1.77533537e-01 -8.62311348e-02\n",
      "  7.28430897e-02 -1.69940442e-02 -3.33845228e-01 -1.12251692e-01\n",
      "  8.40365887e-02 -9.31952968e-02 -1.27470970e-01  4.87368554e-02\n",
      " -2.13758111e-01 -7.47379428e-03 -1.32939562e-01  1.40865713e-01\n",
      "  2.39286050e-02 -6.72129840e-02  2.76276827e-01  2.89384872e-01\n",
      " -1.24782674e-01  4.09401879e-02  2.48547614e-01  1.76439695e-02\n",
      "  7.95515627e-02 -2.74508372e-02 -2.44802698e-01 -6.51639104e-02\n",
      " -6.45180941e-02  8.15979615e-02 -1.24071099e-01 -3.64219397e-02\n",
      "  2.66982499e-03  1.30050018e-01  2.34783888e-01  2.08271205e-01\n",
      "  7.64505044e-02 -1.03928961e-01 -1.25984728e-01 -3.28332968e-02\n",
      " -1.55659094e-01 -1.08389743e-01 -7.48335570e-02  5.32822907e-02]\n",
      "Node 3: [ 2.26862654e-01 -3.30881290e-02  2.37232327e-01  8.81936699e-02\n",
      " -5.92779703e-02 -2.06920341e-01 -3.16575468e-02  2.02440888e-01\n",
      "  1.52815031e-02 -1.05314963e-01  5.44782132e-02 -9.52471644e-02\n",
      "  8.68665054e-02 -8.33116099e-02  1.10568412e-01  1.31924659e-01\n",
      " -1.25852693e-02 -1.98121250e-01 -1.76842108e-01  2.96986222e-01\n",
      "  5.37366532e-02  4.37042601e-02  2.46117294e-01 -7.96247497e-02\n",
      " -6.10932261e-02  2.92696625e-01 -1.55949757e-01 -1.19590513e-01\n",
      "  1.42163098e-01 -1.01352610e-01 -3.22661996e-01  2.10832790e-01\n",
      " -3.47902507e-01 -1.53634951e-01  9.72057730e-02  1.11806639e-01\n",
      " -2.23055761e-03  1.19404607e-01  1.99996769e-01  2.42638499e-01\n",
      "  3.62118110e-02  1.54508492e-02  1.74516544e-01 -3.23532261e-02\n",
      "  5.83068989e-02  4.50521186e-02  8.11115242e-05 -3.83065119e-02\n",
      " -8.02417472e-03  8.79253894e-02 -1.16213951e-02 -4.67314683e-02\n",
      "  1.67147651e-01  2.54192561e-01  5.58467507e-02  2.60132223e-01\n",
      "  1.16980016e-01  1.33870132e-02 -6.23419285e-02 -6.58981577e-02\n",
      "  2.55570877e-02 -2.05539405e-01  1.63316503e-01  1.67308047e-01]\n",
      "Node 4: [ 0.20694426 -0.1049043   0.15029638  0.03386228 -0.14587998 -0.28322712\n",
      "  0.11884056  0.1832151   0.01261307  0.11134981  0.13660364  0.00294259\n",
      "  0.06047415  0.0092817   0.06978603  0.19693197  0.09681737 -0.14705794\n",
      " -0.16837688  0.27750155  0.04350847  0.15672742  0.15068835 -0.09115464\n",
      "  0.00227281  0.11805935 -0.28991008 -0.13712102  0.01882236 -0.11531519\n",
      " -0.2515918   0.1138501  -0.24152286 -0.05466629 -0.03699217  0.12009741\n",
      "  0.02013936  0.05470903  0.31918702  0.26338404  0.06473001  0.01128382\n",
      "  0.18526866 -0.0819571  -0.04875892 -0.02563684 -0.13958544  0.01368275\n",
      "  0.00287784  0.01337663 -0.06968881  0.03490924  0.13756952  0.14975539\n",
      "  0.18820192  0.29625452  0.1633132  -0.11863836 -0.09273827  0.046582\n",
      "  0.05385809 -0.13868432 -0.03837269  0.21443734]\n"
     ]
    }
   ],
   "source": [
    "for node in range(5):\n",
    "    print(f\"Node {node}: {embeddings[str(node)]}\") \n",
    "\n",
    "node_embeddings = {node: embeddings[str(node)] for node in t.nodes()}\n",
    "\n",
    "# 打印一個節點的嵌入（例如節點 0）\n",
    "# print(\"\\nNode 0's embedding:\", node_embeddings[0])"
   ]
  }
 ],
 "metadata": {
  "kernelspec": {
   "display_name": "base",
   "language": "python",
   "name": "python3"
  },
  "language_info": {
   "codemirror_mode": {
    "name": "ipython",
    "version": 3
   },
   "file_extension": ".py",
   "mimetype": "text/x-python",
   "name": "python",
   "nbconvert_exporter": "python",
   "pygments_lexer": "ipython3",
   "version": "3.8.12"
  }
 },
 "nbformat": 4,
 "nbformat_minor": 2
}
